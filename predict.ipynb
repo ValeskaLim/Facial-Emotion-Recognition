{
 "cells": [
  {
   "cell_type": "code",
   "execution_count": null,
   "metadata": {},
   "outputs": [],
   "source": [
    "from keras.preprocessing.image import ImageDataGenerator\n",
    "from keras.utils import load_img, img_to_array\n",
    "from keras.applications import ResNet50\n",
    "from keras.layers import Dense, Dropout, Flatten, GlobalAveragePooling2D, Input, Lambda\n",
    "from keras.models import Sequential, Model\n",
    "import tensorflow as tf\n",
    "import os\n",
    "from matplotlib import pyplot as plt\n",
    "import numpy as np\n",
    "import random\n",
    "from keras.models import load_model\n",
    "\n",
    "# Set image width, height and batch size\n",
    "IMG_HEIGHT = 224\n",
    "IMG_WIDTH = 224\n",
    "batch_size = 32\n",
    "\n",
    "# Load the model\n",
    "model = load_model('resnet50_test_model_raf.h5', compile=False)\n",
    "\n",
    "# class_labels_fer2013=['Angry','Disgust', 'Fear', 'Happy','Neutral','Sad','Surprise']\n",
    "# class_labels_ck = ['Anger', 'Contempt', 'Disgust', 'Fear', 'Happiness', 'Neutral', 'Sadness', 'Surprise']\n",
    "class_labels_raf = ['1', '2', '3', '4', '5' ,'6', '7']\n",
    "\n",
    "# Load the image\n",
    "img_path = r\"RAF-DB\\DATASET\\test\\5\\test_0070_aligned.jpg\"\n",
    "img = load_img(img_path, target_size=(IMG_WIDTH,IMG_HEIGHT))\n",
    "plt.imshow(img)\n",
    "\n",
    "img_array = img_to_array(img) / 255.0\n",
    "img_array = np.expand_dims(img_array, axis=0)\n",
    "\n",
    "# Predict using the model\n",
    "prediction = model.predict(img_array)\n",
    "\n",
    "# Get the predicted label\n",
    "prediction_index = np.argmax(prediction)\n",
    "predicted_label = class_labels_raf[prediction_index]\n",
    "plt.text(10, -10, predicted_label, color='white', fontsize=12, backgroundcolor='black')\n",
    "\n",
    "plt.show()"
   ]
  }
 ],
 "metadata": {
  "language_info": {
   "name": "python"
  }
 },
 "nbformat": 4,
 "nbformat_minor": 2
}
